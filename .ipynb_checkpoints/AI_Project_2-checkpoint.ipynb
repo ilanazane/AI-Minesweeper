{
 "cells": [
  {
   "cell_type": "code",
   "execution_count": 96,
   "metadata": {},
   "outputs": [],
   "source": [
    "#Some imports\n",
    "import numpy as np\n",
    "import matplotlib.pyplot as plt\n",
    "import random\n",
    "import queue\n",
    "import time\n",
    "\n",
    "'''\n",
    "Define the grid to be working with\n",
    "**inputs:\n",
    "dim = dimension size of the grid\n",
    "n = number of mines\n",
    "**returns:\n",
    "board = the grid to be worked with\n",
    "'''\n",
    "\n",
    "def grid(dim, n):\n",
    "    #start with a dim by dim zero array\n",
    "    \n",
    "    board = np.zeros((dim,dim))\n",
    "    board = board + 0.5\n",
    "    \n",
    "    if n >= dim**2:\n",
    "        print(\"Too many mines!\")\n",
    "        return\n",
    "    \n",
    "    while n > 0:\n",
    "        i = random.randint(0, dim - 1)\n",
    "        j = random.randint(0, dim - 1)\n",
    "        \n",
    "        if board[i][j] == 1:\n",
    "            pass\n",
    "        else:\n",
    "            board[i][j] = 1\n",
    "            n -= 1        \n",
    "    return board\n",
    "\n",
    "def agent(board, i, j):\n",
    "    #check if mine spot\n",
    "    if board[i][j] == 1:\n",
    "        print(\"hit mine\")\n",
    "        return\n",
    "    else:\n",
    "        #reveal the number of adjacent mines and safe squares from (i,j)\n",
    "        return checkSurroundings(board, i, j)\n",
    "\n",
    "# given board and coordinate, return number of adjacent mines and safe squares\n",
    "def checkSurroundings(board, i, j):\n",
    "    mines = 0\n",
    "    safes = 0\n",
    "    rightValid = False\n",
    "    leftValid = False\n",
    "    upValid = False\n",
    "    downValid = False\n",
    "    if j - 1 >= 0:\n",
    "        leftValid = True\n",
    "    if j + 1 < dim:\n",
    "        rightValid = True\n",
    "    if i + 1 < dim:\n",
    "        downValid = True\n",
    "    if i - 1 >= 0:\n",
    "        upValid = True\n",
    "        \n",
    "    #check left\n",
    "    if leftValid == True:\n",
    "        #check left adjacent\n",
    "        if board[i][j-1] == 1:\n",
    "            #mine is here\n",
    "            mines += 1\n",
    "        else:\n",
    "            #no mine is here\n",
    "            safes += 1\n",
    "        #check left & up\n",
    "        if upValid == True:\n",
    "            if board[i-1][j-1] == 1:\n",
    "                #mine is here\n",
    "                mines += 1\n",
    "            else:\n",
    "                #no mine is here\n",
    "                safes += 1\n",
    "        #check left & down\n",
    "        if downValid == True:\n",
    "            if board[i+1][j-1] == 1:\n",
    "                #mine is here\n",
    "                mines += 1\n",
    "            else:\n",
    "                #no mine is here\n",
    "                safes += 1\n",
    "    #check right\n",
    "    if rightValid == True:\n",
    "        #check right adjacent\n",
    "        if board[i][j+1] == 1:\n",
    "            #mine is here\n",
    "            mines += 1\n",
    "        else:\n",
    "            #no mine is here\n",
    "            safes += 1\n",
    "        #check right & up\n",
    "        if upValid == True:\n",
    "            if board[i-1][j+1] == 1:\n",
    "                #mine is here\n",
    "                mines += 1\n",
    "            else:\n",
    "                #no mine is here\n",
    "                safes += 1\n",
    "        #check right & down\n",
    "        if downValid == True:\n",
    "            if board[i+1][j+1] == 1:\n",
    "                #mine is here\n",
    "                mines += 1\n",
    "            else:\n",
    "                #no mine is here\n",
    "                safes += 1\n",
    "    #check up adjacent\n",
    "    if upValid == True:\n",
    "        if board[i-1][j] == 1:\n",
    "            #mine is here\n",
    "            mines += 1\n",
    "        else:\n",
    "            #no mine is here\n",
    "            safes += 1\n",
    "    #check down adjacent\n",
    "    if downValid == True:\n",
    "        if board[i+1][j] == 1:\n",
    "            #mine is here\n",
    "            mines += 1\n",
    "        else:\n",
    "            #no mine is here\n",
    "            safes += 1\n",
    "            \n",
    "    return mines, safes"
   ]
  },
  {
   "cell_type": "code",
   "execution_count": 98,
   "metadata": {
    "scrolled": true
   },
   "outputs": [
    {
     "name": "stdout",
     "output_type": "stream",
     "text": [
      "[[ 0.5  0.5  0.5  0.5  1.   0.5  0.5  0.5  0.5  0.5]\n",
      " [ 0.5  0.5  0.5  0.5  0.5  0.5  0.5  1.   0.5  0.5]\n",
      " [ 1.   0.5  0.5  0.5  0.5  0.5  1.   0.5  0.5  0.5]\n",
      " [ 0.5  0.5  0.5  0.5  0.5  0.5  1.   0.5  0.5  0.5]\n",
      " [ 0.5  0.5  0.5  0.5  0.5  0.5  0.5  0.5  0.5  1. ]\n",
      " [ 0.5  0.5  0.5  0.5  0.5  0.5  0.5  0.5  0.5  0.5]\n",
      " [ 0.5  1.   0.5  0.5  1.   0.5  0.5  0.5  0.5  0.5]\n",
      " [ 0.5  0.5  0.5  0.5  0.5  0.5  0.5  0.5  0.5  0.5]\n",
      " [ 1.   0.5  0.5  0.5  0.5  0.5  0.5  0.5  0.5  0.5]\n",
      " [ 0.5  0.5  0.5  0.5  0.5  0.5  1.   0.5  0.5  0.5]]\n",
      "(1, 4)\n"
     ]
    }
   ],
   "source": [
    "a = grid(10, 10)\n",
    "print(a)\n",
    "b = grid(10, 0)\n",
    "print(agent(a, 9, 5)) #print in the form of (mines, safe squares)"
   ]
  },
  {
   "cell_type": "code",
   "execution_count": 71,
   "metadata": {
    "scrolled": false
   },
   "outputs": [
    {
     "data": {
      "image/png": "[encoded data removed]",
      "text/plain": [
       "<matplotlib.figure.Figure at 0x5c1d5f0>"
      ]
     },
     "metadata": {
      "needs_background": "light"
     },
     "output_type": "display_data"
    }
   ],
   "source": [
    "plt.imshow(a, cmap=plt.cm.binary)\n",
    "plt.show()"
   ]
  },
  {
   "cell_type": "code",
   "execution_count": 51,
   "metadata": {},
   "outputs": [
    {
     "data": {
      "image/png": "[encoded data removed]",
      "text/plain": [
       "<matplotlib.figure.Figure at 0x5a47fb0>"
      ]
     },
     "metadata": {
      "needs_background": "light"
     },
     "output_type": "display_data"
    }
   ],
   "source": [
    "plt.imshow(b, cmap=plt.cm.binary)\n",
    "plt.show()"
   ]
  },
  {
   "cell_type": "code",
   "execution_count": 52,
   "metadata": {},
   "outputs": [],
   "source": [
    "y = np.zeros([1,2])"
   ]
  },
  {
   "cell_type": "code",
   "execution_count": 47,
   "metadata": {},
   "outputs": [],
   "source": [
    "d = {}\n",
    "d[(0,0)] = [3, 2]"
   ]
  }
 ],
 "metadata": {
  "kernelspec": {
   "display_name": "Python 3",
   "language": "python",
   "name": "python3"
  },
  "language_info": {
   "codemirror_mode": {
    "name": "ipython",
    "version": 3
   },
   "file_extension": ".py",
   "mimetype": "text/x-python",
   "name": "python",
   "nbconvert_exporter": "python",
   "pygments_lexer": "ipython3",
   "version": "3.6.3"
  }
 },
 "nbformat": 4,
 "nbformat_minor": 2
}
