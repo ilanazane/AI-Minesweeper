{
 "cells": [
  {
   "cell_type": "code",
   "execution_count": 7,
   "metadata": {},
   "outputs": [],
   "source": [
    "#Some imports\n",
    "import numpy as np\n",
    "import matplotlib.pyplot as plt\n",
    "import random\n",
    "import queue\n",
    "import time\n",
    "\n",
    "#Functions that will be very useful for creating/updating mazes\n",
    "\n",
    "'''\n",
    "Define the grid to be working with\n",
    "**inputs:\n",
    "dim = dimension size of the grid\n",
    "n = number of mines\n",
    "**returns:\n",
    "board = the grid to be worked with\n",
    "'''\n",
    "\n",
    "\n",
    "def grid(dim, n):\n",
    "    #start with a dim by dim zero array\n",
    "    \n",
    "    board = np.zeros((dim,dim))\n",
    "    board = board + 0.5\n",
    "    \n",
    "    if n >= dim**2:\n",
    "        print(\"Too many mines!\")\n",
    "        return\n",
    "    \n",
    "    while n > 0:\n",
    "        i = random.randint(0, dim - 1)\n",
    "        j = random.randint(0, dim - 1)\n",
    "        \n",
    "        if board[i][j] == 1:\n",
    "            pass\n",
    "        \n",
    "        else:\n",
    "            board[i][j] = 1\n",
    "            n -= 1        \n",
    "    return board\n",
    "\n",
    "\n",
    "\n",
    "def agent(board, i, j):\n",
    "    #check if mine spot\n",
    "    if board[i][j] == 1:\n",
    "        print(\"hit mine\")\n",
    "        return\n",
    "    else:\n",
    "        \n",
    "        #reveal the number of adjacent mines from (i,j)\n",
    "        getNumMines(i,j)          \n",
    "        \n",
    "        return 1\n",
    "\n",
    "# given board and coordinate, return number of adjacent mines\n",
    "def getNumMines(board, i, j):\n",
    "    #check left\n",
    "    if i - 1 < 0:\n",
    "        pass\n",
    "    else:\n",
    "        if board[i-1][j] == 1:\n",
    "            #mine is here\n",
    "            mines += 1\n",
    "        else:\n",
    "            #no mine is here\n",
    "            empty_spots += 1"
   ]
  },
  {
   "cell_type": "code",
   "execution_count": 8,
   "metadata": {},
   "outputs": [
    {
     "name": "stdout",
     "output_type": "stream",
     "text": [
      "[[ 0.5  0.5  0.5  1.   0.5  0.5  1.   0.5  0.5  0.5]\n",
      " [ 0.5  0.5  0.5  0.5  0.5  0.5  0.5  0.5  0.5  0.5]\n",
      " [ 0.5  1.   0.5  0.5  0.5  1.   0.5  0.5  0.5  0.5]\n",
      " [ 0.5  0.5  0.5  0.5  0.5  0.5  0.5  0.5  0.5  0.5]\n",
      " [ 0.5  0.5  1.   0.5  0.5  0.5  0.5  0.5  0.5  0.5]\n",
      " [ 1.   0.5  0.5  0.5  0.5  1.   0.5  0.5  0.5  0.5]\n",
      " [ 0.5  0.5  0.5  0.5  0.5  0.5  0.5  1.   0.5  0.5]\n",
      " [ 0.5  0.5  0.5  0.5  0.5  0.5  0.5  0.5  0.5  0.5]\n",
      " [ 0.5  0.5  0.5  0.5  0.5  0.5  0.5  0.5  0.5  0.5]\n",
      " [ 1.   0.5  1.   0.5  0.5  0.5  0.5  0.5  0.5  0.5]]\n"
     ]
    }
   ],
   "source": [
    "a = grid(10, 10)\n",
    "print(a)\n",
    "b = grid(10, 0)"
   ]
  },
  {
   "cell_type": "code",
   "execution_count": 9,
   "metadata": {
    "scrolled": true
   },
   "outputs": [
    {
     "data": {
      "image/png": "[encoded data removed]",
      "text/plain": [
       "<matplotlib.figure.Figure at 0x4a6b050>"
      ]
     },
     "metadata": {
      "needs_background": "light"
     },
     "output_type": "display_data"
    }
   ],
   "source": [
    "plt.imshow(a, cmap=plt.cm.binary)\n",
    "plt.show()"
   ]
  },
  {
   "cell_type": "code",
   "execution_count": 10,
   "metadata": {},
   "outputs": [
    {
     "data": {
      "image/png": "[encoded data removed]",
      "text/plain": [
       "<matplotlib.figure.Figure at 0x7a38f10>"
      ]
     },
     "metadata": {
      "needs_background": "light"
     },
     "output_type": "display_data"
    }
   ],
   "source": [
    "plt.imshow(b, cmap=plt.cm.binary)\n",
    "plt.show()"
   ]
  },
  {
   "cell_type": "code",
   "execution_count": 11,
   "metadata": {},
   "outputs": [],
   "source": [
    "y = np.zeros([1,2])"
   ]
  },
  {
   "cell_type": "code",
   "execution_count": 8,
   "metadata": {},
   "outputs": [],
   "source": [
    "d = {}\n",
    "d[(0,0)] = [3, 2]"
   ]
  }
 ],
 "metadata": {
  "kernelspec": {
   "display_name": "Python 3",
   "language": "python",
   "name": "python3"
  },
  "language_info": {
   "codemirror_mode": {
    "name": "ipython",
    "version": 3
   },
   "file_extension": ".py",
   "mimetype": "text/x-python",
   "name": "python",
   "nbconvert_exporter": "python",
   "pygments_lexer": "ipython3",
   "version": "3.6.3"
  }
 },
 "nbformat": 4,
 "nbformat_minor": 2
}
