{
 "cells": [
  {
   "cell_type": "code",
   "execution_count": 40,
   "metadata": {},
   "outputs": [],
   "source": [
    "import numpy as num\n",
    "\n",
    "#print vector to check final solution's rref\n",
    "def print_vector(vector):\n",
    "    for item in vector:\n",
    "        print (item)\n",
    "\n",
    "#print intermediate boards\n",
    "def print_matrices(M1, M2):\n",
    "    print('\\t'*int(len(M1)/2)+\"\\t\"*len(M1))\n",
    "    for i in range(len(M1)):\n",
    "        #use formatting placeholders for neat output of elements\n",
    "        row1 = ['{0:+7.3f}'.format(x) for x in M1[i]]\n",
    "        row2 = ['{0:+7.3f}'.format(x) for x in M2[i]]\n",
    "        print(row1,'\\t', row2)\n",
    "\n",
    "#make a copy of the board for computations\n",
    "def duplicate_matrix(M):\n",
    "    rows = len(M)\n",
    "    cols = len(M[0])\n",
    "    DP = num.zeros([rows, cols], dtype = int) \n",
    "    #fill in values from M into DP\n",
    "    for i in range(rows):\n",
    "        for j in range(cols):\n",
    "            DP[i][j] = M[i][j]\n",
    "    return DP\n",
    "\n",
    "#Multiply given matrices A and B\n",
    "def matrix_multiply(A,B):\n",
    "    rowsA = len(A)\n",
    "    colsA = len(A[0])\n",
    "    rowsB = len(B)\n",
    "    colsB = len(B[0])\n",
    "    C = num.zeros([rowsA, colsB], dtype = int)\n",
    "    #Compute the products by traversing the rows and columns of each matrix\n",
    "    for i in range(rowsA):\n",
    "        for j in range(colsB):\n",
    "            total = 0\n",
    "            for h in range(colsA):\n",
    "                total += A[i][h] * B[h][j]\n",
    "            C[i][j] = total\n",
    "    return C"
   ]
  },
  {
   "cell_type": "code",
   "execution_count": 41,
   "metadata": {},
   "outputs": [],
   "source": [
    "# A = [[5.,4.,3.,2.,1.],[4.,3.,2.,1.,5.],[3.,2.,9.,5.,4.],[2.,1.,5.,4.,3.],[1.,2.,3.,4.,5.]]\n",
    "# B = [[48],[38],[64],[43],[42]]\n",
    "A = [[5.,3.,1.],[3.,9.,4.],[1.,3.,5.]]\n",
    "B = [[9.0],[16.0],[9.0]]"
   ]
  },
  {
   "cell_type": "code",
   "execution_count": 42,
   "metadata": {},
   "outputs": [
    {
     "name": "stdout",
     "output_type": "stream",
     "text": [
      "\n",
      "\t\t\t\t\n",
      "[' +1.000', ' +0.000', ' +0.000'] \t [' +1.000']\n",
      "[' +3.000', ' +9.000', ' +4.000'] \t ['+16.000']\n",
      "[' +1.000', ' +3.000', ' +5.000'] \t [' +9.000']\n",
      "\n",
      "\t\t\t\t\n",
      "[' +1.000', ' +0.000', ' +0.000'] \t [' +1.000']\n",
      "[' +0.000', ' +9.000', ' +4.000'] \t ['+13.000']\n",
      "[' +1.000', ' +3.000', ' +5.000'] \t [' +9.000']\n",
      "\n",
      "\t\t\t\t\n",
      "[' +1.000', ' +0.000', ' +0.000'] \t [' +1.000']\n",
      "[' +0.000', ' +9.000', ' +4.000'] \t ['+13.000']\n",
      "[' +0.000', ' +3.000', ' +5.000'] \t [' +8.000']\n",
      "\n",
      "\t\t\t\t\n",
      "[' +1.000', ' +0.000', ' +0.000'] \t [' +1.000']\n",
      "[' +0.000', ' +1.000', ' +0.000'] \t [' +1.000']\n",
      "[' +0.000', ' +3.000', ' +5.000'] \t [' +8.000']\n",
      "\n",
      "\t\t\t\t\n",
      "[' +1.000', ' +0.000', ' +0.000'] \t [' +1.000']\n",
      "[' +0.000', ' +1.000', ' +0.000'] \t [' +1.000']\n",
      "[' +0.000', ' +3.000', ' +5.000'] \t [' +8.000']\n",
      "\n",
      "\t\t\t\t\n",
      "[' +1.000', ' +0.000', ' +0.000'] \t [' +1.000']\n",
      "[' +0.000', ' +1.000', ' +0.000'] \t [' +1.000']\n",
      "[' +0.000', ' +0.000', ' +5.000'] \t [' +5.000']\n",
      "\n",
      "\t\t\t\t\n",
      "[' +1.000', ' +0.000', ' +0.000'] \t [' +1.000']\n",
      "[' +0.000', ' +1.000', ' +0.000'] \t [' +1.000']\n",
      "[' +0.000', ' +0.000', ' +1.000'] \t [' +1.000']\n",
      "\n",
      "\t\t\t\t\n",
      "[' +1.000', ' +0.000', ' +0.000'] \t [' +1.000']\n",
      "[' +0.000', ' +1.000', ' +0.000'] \t [' +1.000']\n",
      "[' +0.000', ' +0.000', ' +1.000'] \t [' +1.000']\n",
      "\n",
      "\t\t\t\t\n",
      "[' +1.000', ' +0.000', ' +0.000'] \t [' +1.000']\n",
      "[' +0.000', ' +1.000', ' +0.000'] \t [' +1.000']\n",
      "[' +0.000', ' +0.000', ' +1.000'] \t [' +1.000']\n",
      "\n"
     ]
    }
   ],
   "source": [
    "AM = duplicate_matrix(A)\n",
    "n = len(A)\n",
    "BM = duplicate_matrix(B)\n",
    "\n",
    "print()\n",
    "\n",
    "#Create a list that allows for flexible number of squares\n",
    "squares = list(range(n))\n",
    "for diag in range(n):\n",
    "    scalar = 1.0 / AM[diag][diag]\n",
    "    \n",
    "    #Multiply by scalar for every column for the diagonal row\n",
    "    for j in range(n):\n",
    "        AM[diag][j] *= scalar\n",
    "    BM[diag][0] *= scalar    \n",
    "    \n",
    "    #Print out current matrix after computation\n",
    "    print_matrices(AM, BM)\n",
    "    print()\n",
    "    \n",
    "    #Iterate through and scale all rows except the fd row\n",
    "    for i in squares[0:diag] + squares[diag+1:]:\n",
    "        currRowScalar = AM[i][diag]\n",
    "        #compute current row - current row scaler*fdRow for every column\n",
    "        for j in range(n):\n",
    "            AM[i][j] = AM[i][j] - currRowScalar * AM[diag][j]\n",
    "        BM[i][0] = BM[i][0] - currRowScalar * BM[diag][0]\n",
    "        \n",
    "        # Print out current matrix after computation\n",
    "        print_matrices(AM, BM)\n",
    "        print()"
   ]
  },
  {
   "cell_type": "code",
   "execution_count": 43,
   "metadata": {},
   "outputs": [
    {
     "name": "stdout",
     "output_type": "stream",
     "text": [
      "Now we multiply the original A matrix times our solution for X, which is BM. If we get our starting X, our solution is proved.\n",
      "[9]\n",
      "[16]\n",
      "[9]\n"
     ]
    }
   ],
   "source": [
    "print(\"Now we multiply the original A matrix times our solution for X, which is BM. If we get our starting X, our solution is proved.\")\n",
    "print_vector(matrix_multiply(A,BM))"
   ]
  },
  {
   "cell_type": "code",
   "execution_count": null,
   "metadata": {},
   "outputs": [],
   "source": [
    "#insert values in agent board using inferences calculated from system of equations\n",
    "for item in BM:\n",
    "    agent_board[item[0][0]][item[0][1]] = item[1]\n",
    "print(agent_board)"
   ]
  }
 ],
 "metadata": {
  "kernelspec": {
   "display_name": "Python 3",
   "language": "python",
   "name": "python3"
  },
  "language_info": {
   "codemirror_mode": {
    "name": "ipython",
    "version": 3
   },
   "file_extension": ".py",
   "mimetype": "text/x-python",
   "name": "python",
   "nbconvert_exporter": "python",
   "pygments_lexer": "ipython3",
   "version": "3.6.3"
  }
 },
 "nbformat": 4,
 "nbformat_minor": 4
}
